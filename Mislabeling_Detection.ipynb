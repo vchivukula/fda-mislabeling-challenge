{
 "cells": [
  {
   "cell_type": "markdown",
   "metadata": {},
   "source": [
    "The script is very similar to what Tomáš Brůna wrote. The difference is in the classifiers - DecisionTree and SGD Classifier."
   ]
  },
  {
   "cell_type": "code",
   "execution_count": 2,
   "metadata": {},
   "outputs": [
    {
     "name": "stdout",
     "output_type": "stream",
     "text": [
      "cat: path: No such file or directory\r\n"
     ]
    }
   ],
   "source": [
    "path = ('/mnt/c/Users/Vasanta Chivukula/Documents/Vannbergclass/Challenge/train_pro.tsv')\n"
   ]
  },
  {
   "cell_type": "code",
   "execution_count": 14,
   "metadata": {
    "collapsed": true
   },
   "outputs": [],
   "source": [
    "import os\n",
    "import sys\n",
    "import getopt\n",
    "import re\n",
    "import csv\n",
    "import pandas as pd\n",
    "from sklearn.model_selection import cross_val_score, GridSearchCV, cross_validate, train_test_split\n",
    "from sklearn.metrics import accuracy_score, classification_report\n",
    "from sklearn.ensemble import RandomForestClassifier\n",
    "from sklearn.impute import SimpleImputer\n",
    "from sklearn.svm import SVC\n",
    "from sklearn.metrics import f1_score\n",
    "from sklearn import preprocessing\n",
    "from sklearn.linear_model import LogisticRegression\n",
    "from sklearn import tree\n",
    "from sklearn.neighbors import KNeighborsClassifier\n",
    "from sklearn.linear_model import SGDClassifier\n"
   ]
  },
  {
   "cell_type": "code",
   "execution_count": 15,
   "metadata": {
    "collapsed": true
   },
   "outputs": [],
   "source": [
    "import csv\n",
    "labels = pd.read_csv('/mnt/c/Users/Vasanta Chivukula/Documents/Vannbergclass/Challenge/newchallenge/train_cli.tsv', sep=\"\\t\", index_col=\"sample\")\n",
    "proteins = pd.read_csv('/mnt/c/Users/Vasanta Chivukula/Documents/Vannbergclass/Challenge/newchallenge/train_pro.tsv', sep=\"\\t\")\n",
    "# Transpose proteins matrix\n",
    "proteins = proteins.T\n",
    "misClassified = pd.read_csv(\"/mnt/c/Users/Vasanta Chivukula/Documents/Vannbergclass/Challenge/newchallenge/sum_tab_1.csv\", sep=\",\")\n",
    "# Replace missing values with median\n",
    "proteins = proteins.fillna(proteins.median())\n",
    "# Drop remaining columns with missing values\n",
    "proteins = proteins.dropna(axis='columns')\n",
    "\n",
    "proteins.to_csv('transpose_file.csv', index=False)"
   ]
  },
  {
   "cell_type": "markdown",
   "metadata": {},
   "source": [
    "matches variable holds the index of only correctly labeled data from sum_tab_1. loc is a pandas function which helps locate the matches.Locating the protein sets for only those that have matches in the train files."
   ]
  },
  {
   "cell_type": "code",
   "execution_count": 16,
   "metadata": {
    "collapsed": true
   },
   "outputs": [],
   "source": [
    "matches = list(misClassified.query('mismatch==0').loc[:,\"sample\"])\n",
    "x = proteins.loc[matches]\n",
    "y = labels.loc[matches]"
   ]
  },
  {
   "cell_type": "markdown",
   "metadata": {},
   "source": [
    "Cross validating the classifier (splitting the train data into train and test to check if the classifier predicts correctly)\n",
    "\n",
    "x_train - 70% data from pro file in train\n",
    "X-test - 30% of the data from train used as test\n",
    "y_train 70% is the data from cli\n",
    "y_test is 30% oof data from cli\n",
    "\n",
    " y_gender_train = lb.fit_transform(y_train.loc[:,\"gender\"]).ravel() - fitting the linearBinarizer to y_train gender"
   ]
  },
  {
   "cell_type": "code",
   "execution_count": 17,
   "metadata": {
    "collapsed": true
   },
   "outputs": [],
   "source": [
    "def classify(x, y, clf):\n",
    "    lb = preprocessing.LabelBinarizer()\n",
    "    x_train, x_test, y_train, y_test = train_test_split(x, y, test_size=0.3, shuffle=True, random_state=100)\n",
    "    # I will have separat models for gender and msi\n",
    "    y_gender_train = lb.fit_transform(y_train.loc[:,\"gender\"]).ravel()\n",
    "    y_gender_test = lb.fit_transform(y_test.loc[:,\"gender\"]).ravel()\n",
    "    y_msi_train = lb.fit_transform(y_train.loc[:,\"msi\"]).ravel()\n",
    "    y_msi_test = lb.fit_transform(y_test.loc[:,\"msi\"]).ravel()\n",
    "\n",
    "    clf.fit(x_train, y_gender_train)\n",
    "\n",
    "    y_gender_predict = clf.predict(x_train)\n",
    "    print(\"Gender train accuracy:\", accuracy_score(y_gender_train, y_gender_predict))\n",
    "    # print(\"Gender train F1:\", f1_score(y_gender_train, y_gender_predict))\n",
    "\n",
    "    y_gender_predict = clf.predict(x_test)\n",
    "    print(\"Gender test accuracy:\", accuracy_score(y_gender_test, y_gender_predict))\n",
    "    # print(\"Gender test F1:\", f1_score(y_gender_test, y_gender_predict))\n",
    "\n",
    "    clf.fit(x_train, y_msi_train)\n",
    "\n",
    "    y_msi_predict = clf.predict(x_train)\n",
    "    print(\"Msi train accuracy:\", accuracy_score(y_msi_train, y_msi_predict))\n",
    "    # print(\"Msi train F1:\", f1_score(y_msi_train, y_msi_predict))\n",
    "\n",
    "    y_msi_predict = clf.predict(x_test)\n",
    "    print(\"Msi test accuracy:\", accuracy_score(y_msi_test, y_msi_predict))\n",
    "    # print(\"Msi test F1:\", f1_score(y_msi_test, y_msi_predict))"
   ]
  },
  {
   "cell_type": "code",
   "execution_count": 52,
   "metadata": {},
   "outputs": [
    {
     "name": "stdout",
     "output_type": "stream",
     "text": [
      "Gender train accuracy: 1.0\n",
      "Gender test accuracy: 0.619047619048\n",
      "Msi train accuracy: 1.0\n",
      "Msi test accuracy: 1.0\n"
     ]
    }
   ],
   "source": [
    "classify(x, y, SVC(C=100, kernel=\"rbf\", gamma=\"scale\", probability=True))"
   ]
  },
  {
   "cell_type": "code",
   "execution_count": 53,
   "metadata": {},
   "outputs": [
    {
     "name": "stdout",
     "output_type": "stream",
     "text": [
      "Gender train accuracy: 1.0\n",
      "Gender test accuracy: 0.619047619048\n",
      "Msi train accuracy: 1.0\n",
      "Msi test accuracy: 1.0\n"
     ]
    }
   ],
   "source": [
    "classify(x, y, LogisticRegression(solver='newton-cg', max_iter=1000))"
   ]
  },
  {
   "cell_type": "code",
   "execution_count": 54,
   "metadata": {},
   "outputs": [
    {
     "name": "stdout",
     "output_type": "stream",
     "text": [
      "Gender train accuracy: 1.0\n",
      "Gender test accuracy: 0.619047619048\n",
      "Msi train accuracy: 1.0\n",
      "Msi test accuracy: 1.0\n"
     ]
    }
   ],
   "source": [
    "classify(x, y, LogisticRegression(solver='lbfgs', max_iter=1000))"
   ]
  },
  {
   "cell_type": "code",
   "execution_count": 55,
   "metadata": {},
   "outputs": [
    {
     "name": "stdout",
     "output_type": "stream",
     "text": [
      "Gender train accuracy: 1.0\n",
      "Gender test accuracy: 0.571428571429\n",
      "Msi train accuracy: 1.0\n",
      "Msi test accuracy: 0.714285714286\n"
     ]
    }
   ],
   "source": [
    "classify(x, y, tree.DecisionTreeClassifier(random_state=1))"
   ]
  },
  {
   "cell_type": "code",
   "execution_count": 56,
   "metadata": {},
   "outputs": [
    {
     "name": "stdout",
     "output_type": "stream",
     "text": [
      "Gender train accuracy: 0.872340425532\n",
      "Gender test accuracy: 0.666666666667\n",
      "Msi train accuracy: 0.893617021277\n",
      "Msi test accuracy: 0.952380952381\n"
     ]
    }
   ],
   "source": [
    "classify(x, y, KNeighborsClassifier())"
   ]
  },
  {
   "cell_type": "code",
   "execution_count": 18,
   "metadata": {
    "collapsed": true
   },
   "outputs": [],
   "source": [
    "test_labels = pd.read_csv('/mnt/c/Users/Vasanta Chivukula/Documents/Vannbergclass/Challenge/newchallenge/test_cli.tsv', sep=\"\\t\", index_col=\"sample\")\n",
    "test_proteins = pd.read_csv('/mnt/c/Users/Vasanta Chivukula/Documents/Vannbergclass/Challenge/newchallenge/test_pro.tsv', sep=\"\\t\")\n",
    "test_proteins = test_proteins.T\n",
    "test_proteins = test_proteins.fillna(proteins.median())\n",
    "test_proteins = test_proteins.dropna(axis='columns')"
   ]
  },
  {
   "cell_type": "code",
   "execution_count": 25,
   "metadata": {
    "collapsed": true
   },
   "outputs": [],
   "source": [
    "def final_classify(x, y, test_prot, test_label, clf):\n",
    "    lb = preprocessing.LabelBinarizer()\n",
    "    x_train, x_test, y_train, y_test = train_test_split(x, y, test_size=0.3, shuffle=True, random_state=100)\n",
    "    # I will have separat models for gender and msi\n",
    "    y_gender_train = y_train.loc[:,\"gender\"]\n",
    "    y_gender_test = y_test.loc[:,\"gender\"]\n",
    "    y_msi_train = y_train.loc[:,\"msi\"]\n",
    "    y_msi_test = y_test.loc[:,\"msi\"]\n",
    "\n",
    "    clf.fit(x_train, y_gender_train)\n",
    "\n",
    "    y_gender_predict = clf.predict(x_train)\n",
    "    print(\"Gender train accuracy:\", accuracy_score(y_gender_train, y_gender_predict))\n",
    "    # print(\"Gender train F1:\", f1_score(y_gender_train, y_gender_predict))\n",
    "\n",
    "    y_gender_predict = clf.predict(x_test)\n",
    "    print(\"Gender test accuracy:\", accuracy_score(y_gender_test, y_gender_predict))\n",
    "    # print(\"Gender test F1:\", f1_score(y_gender_test, y_gender_predict))\n",
    "\n",
    "\n",
    "    clf.fit(x_train, y_msi_train)\n",
    "\n",
    "    y_msi_predict = clf.predict(x_train)\n",
    "    print(\"Msi train accuracy:\", accuracy_score(y_msi_train, y_msi_predict))\n",
    "    # print(\"Msi train F1:\", f1_score(y_msi_train, y_msi_predict))\n",
    "\n",
    "    y_msi_predict = clf.predict(x_test)\n",
    "    print(\"Msi test accuracy:\", accuracy_score(y_msi_test, y_msi_predict))\n",
    "    # print(\"Msi test F1:\", f1_score(y_msi_test, y_msi_predict))\n",
    "    \n",
    "    #lb = preprocessing.LabelBinarizer()\n",
    "\n",
    "    y_gender = test_label.loc[:,\"gender\"]\n",
    "    y_msi = test_label.loc[:,\"msi\"]\n",
    "\n",
    "    clf.fit(x_train, y_gender_train)\n",
    "    y_gender_predict = clf.predict(test_prot)\n",
    "\n",
    "    print(\"Gender test accuracy:\", accuracy_score( y_gender, y_gender_predict))\n",
    "    probs = clf.predict_proba(test_prot)\n",
    "    #for i in range(len(probs)):\n",
    "        #print(probs[i] , y_gender_predict[i], y_gender[i])\n",
    "    #print()\n",
    "    clf.fit(x_train, y_msi_train)\n",
    "    y_msi_predict = clf.predict(test_prot)\n",
    "    print(\"Msi test accuracy:\", accuracy_score(y_msi, y_msi_predict))\n",
    "    probs = clf.predict_proba(test_prot)\n",
    "    for i in range(len(probs)):\n",
    "        row = (probs[i], y_gender_predict[i], y_gender[i], y_msi_predict[i], y_msi[i])\n",
    "        \n",
    "        with open('SGD_final_file.csv','a') as out:\n",
    "            writer=csv.writer(out)\n",
    "            writer.writerow(row)\n",
    "\n",
    "    \n"
   ]
  },
  {
   "cell_type": "code",
   "execution_count": 20,
   "metadata": {},
   "outputs": [
    {
     "name": "stdout",
     "output_type": "stream",
     "text": [
      "Gender train accuracy: 0.872340425532\n",
      "Gender test accuracy: 0.666666666667\n",
      "Msi train accuracy: 0.893617021277\n",
      "Msi test accuracy: 0.952380952381\n",
      "Gender test accuracy: 0.4375\n",
      "Msi test accuracy: 0.875\n"
     ]
    }
   ],
   "source": [
    "final_classify(x,y, test_proteins, test_labels, KNeighborsClassifier())"
   ]
  },
  {
   "cell_type": "code",
   "execution_count": 28,
   "metadata": {},
   "outputs": [
    {
     "name": "stdout",
     "output_type": "stream",
     "text": [
      "Gender train accuracy: 1.0\n",
      "Gender test accuracy: 0.619047619048\n",
      "Msi train accuracy: 1.0\n",
      "Msi test accuracy: 1.0\n",
      "Gender test accuracy: 0.3875\n",
      "[ 0.88114746  0.11885254] Female Female\n",
      "[ 0.94603902  0.05396098] Female Male\n",
      "[ 0.97853094  0.02146906] Female Female\n",
      "[ 0.97858197  0.02141803] Female Male\n",
      "[ 0.06550025  0.93449975] Male Female\n",
      "[ 0.82886665  0.17113335] Female Male\n",
      "[ 0.37737788  0.62262212] Male Male\n",
      "[ 0.38782122  0.61217878] Male Male\n",
      "[ 0.98711809  0.01288191] Female Female\n",
      "[ 0.5548236  0.4451764] Female Female\n",
      "[ 0.98674807  0.01325193] Female Male\n",
      "[ 0.99594412  0.00405588] Female Male\n",
      "[ 0.16918631  0.83081369] Male Male\n",
      "[ 0.91007303  0.08992697] Female Male\n",
      "[ 0.66583386  0.33416614] Female Female\n",
      "[ 0.98991702  0.01008298] Female Female\n",
      "[ 0.99276121  0.00723879] Female Female\n",
      "[ 0.92405734  0.07594266] Female Male\n",
      "[ 0.22322319  0.77677681] Male Female\n",
      "[  9.99862425e-01   1.37574689e-04] Female Male\n",
      "[ 0.95607609  0.04392391] Female Female\n",
      "[ 0.01065247  0.98934753] Male Female\n",
      "[ 0.30613269  0.69386731] Male Male\n",
      "[ 0.90834901  0.09165099] Female Male\n",
      "[ 0.8930942  0.1069058] Female Male\n",
      "[ 0.80015261  0.19984739] Female Male\n",
      "[ 0.96494237  0.03505763] Female Female\n",
      "[ 0.19826134  0.80173866] Male Male\n",
      "[ 0.93180179  0.06819821] Female Female\n",
      "[ 0.84338921  0.15661079] Female Male\n",
      "[ 0.84378725  0.15621275] Female Male\n",
      "[ 0.19539561  0.80460439] Male Male\n",
      "[ 0.91610308  0.08389692] Female Male\n",
      "[ 0.90538133  0.09461867] Female Female\n",
      "[ 0.70528748  0.29471252] Female Female\n",
      "[ 0.53218913  0.46781087] Female Male\n",
      "[ 0.30092182  0.69907818] Male Female\n",
      "[ 0.95717985  0.04282015] Female Male\n",
      "[ 0.28937681  0.71062319] Male Female\n",
      "[ 0.81322251  0.18677749] Female Male\n",
      "[ 0.68842397  0.31157603] Female Female\n",
      "[ 0.99556302  0.00443698] Female Female\n",
      "[ 0.99812009  0.00187991] Female Female\n",
      "[ 0.32677603  0.67322397] Male Male\n",
      "[ 0.99657149  0.00342851] Female Female\n",
      "[ 0.21850942  0.78149058] Male Female\n",
      "[ 0.04710213  0.95289787] Male Female\n",
      "[ 0.58387716  0.41612284] Female Male\n",
      "[ 0.78958149  0.21041851] Female Female\n",
      "[ 0.76676211  0.23323789] Female Male\n",
      "[ 0.74080737  0.25919263] Female Male\n",
      "[ 0.25333193  0.74666807] Male Male\n",
      "[ 0.87018156  0.12981844] Female Male\n",
      "[ 0.77455762  0.22544238] Female Male\n",
      "[ 0.54237335  0.45762665] Female Female\n",
      "[ 0.90738103  0.09261897] Female Female\n",
      "[ 0.8591759  0.1408241] Female Male\n",
      "[ 0.97247027  0.02752973] Female Male\n",
      "[ 0.97006812  0.02993188] Female Male\n",
      "[ 0.44190379  0.55809621] Male Male\n",
      "[ 0.98883445  0.01116555] Female Male\n",
      "[ 0.41430394  0.58569606] Male Female\n",
      "[ 0.76630764  0.23369236] Female Male\n",
      "[ 0.98648886  0.01351114] Female Male\n",
      "[ 0.95265378  0.04734622] Female Male\n",
      "[ 0.85738882  0.14261118] Female Male\n",
      "[ 0.98007505  0.01992495] Female Male\n",
      "[ 0.94326612  0.05673388] Female Male\n",
      "[ 0.69580488  0.30419512] Female Female\n",
      "[ 0.88831397  0.11168603] Female Male\n",
      "[ 0.90690774  0.09309226] Female Male\n",
      "[ 0.83756743  0.16243257] Female Male\n",
      "[ 0.27155464  0.72844536] Male Female\n",
      "[ 0.78745004  0.21254996] Female Male\n",
      "[ 0.9408372  0.0591628] Female Male\n",
      "[ 0.14684502  0.85315498] Male Female\n",
      "[ 0.34185877  0.65814123] Male Male\n",
      "[ 0.66868343  0.33131657] Female Male\n",
      "[ 0.9369146  0.0630854] Female Male\n",
      "[ 0.97864153  0.02135847] Female Female\n",
      "\n",
      "Msi test accuracy: 0.85\n",
      "[ 0.00737229  0.99262771] MSI-Low/MSS MSI-Low/MSS\n",
      "[  3.47935259e-04   9.99652065e-01] MSI-Low/MSS MSI-Low/MSS\n",
      "[ 0.01795016  0.98204984] MSI-Low/MSS MSI-Low/MSS\n",
      "[  9.61359233e-04   9.99038641e-01] MSI-Low/MSS MSI-Low/MSS\n",
      "[  8.22168319e-04   9.99177832e-01] MSI-Low/MSS MSI-Low/MSS\n",
      "[ 0.94643987  0.05356013] MSI-High MSI-Low/MSS\n",
      "[ 0.01779419  0.98220581] MSI-Low/MSS MSI-Low/MSS\n",
      "[ 0.00356127  0.99643873] MSI-Low/MSS MSI-Low/MSS\n",
      "[ 0.19884791  0.80115209] MSI-Low/MSS MSI-Low/MSS\n",
      "[ 0.00410866  0.99589134] MSI-Low/MSS MSI-Low/MSS\n",
      "[ 0.00198725  0.99801275] MSI-Low/MSS MSI-Low/MSS\n",
      "[ 0.00186972  0.99813028] MSI-Low/MSS MSI-Low/MSS\n",
      "[ 0.01360529  0.98639471] MSI-Low/MSS MSI-Low/MSS\n",
      "[  3.18773089e-04   9.99681227e-01] MSI-Low/MSS MSI-Low/MSS\n",
      "[ 0.00798623  0.99201377] MSI-Low/MSS MSI-Low/MSS\n",
      "[ 0.03367384  0.96632616] MSI-Low/MSS MSI-Low/MSS\n",
      "[ 0.00107831  0.99892169] MSI-Low/MSS MSI-Low/MSS\n",
      "[ 0.70770755  0.29229245] MSI-High MSI-High\n",
      "[ 0.92050539  0.07949461] MSI-High MSI-Low/MSS\n",
      "[  7.38585776e-04   9.99261414e-01] MSI-Low/MSS MSI-Low/MSS\n",
      "[ 0.00376277  0.99623723] MSI-Low/MSS MSI-Low/MSS\n",
      "[ 0.87933242  0.12066758] MSI-High MSI-High\n",
      "[  8.83079361e-04   9.99116921e-01] MSI-Low/MSS MSI-Low/MSS\n",
      "[ 0.15417615  0.84582385] MSI-Low/MSS MSI-High\n",
      "[ 0.00715427  0.99284573] MSI-Low/MSS MSI-Low/MSS\n",
      "[ 0.00389223  0.99610777] MSI-Low/MSS MSI-Low/MSS\n",
      "[  1.00121683e-04   9.99899878e-01] MSI-Low/MSS MSI-Low/MSS\n",
      "[ 0.87447867  0.12552133] MSI-High MSI-High\n",
      "[ 0.00331104  0.99668896] MSI-Low/MSS MSI-Low/MSS\n",
      "[ 0.00344232  0.99655768] MSI-Low/MSS MSI-Low/MSS\n",
      "[ 0.01523283  0.98476717] MSI-Low/MSS MSI-Low/MSS\n",
      "[ 0.01054391  0.98945609] MSI-Low/MSS MSI-Low/MSS\n",
      "[  8.65044368e-04   9.99134956e-01] MSI-Low/MSS MSI-Low/MSS\n",
      "[  1.97958144e-04   9.99802042e-01] MSI-Low/MSS MSI-Low/MSS\n",
      "[ 0.99722819  0.00277181] MSI-High MSI-Low/MSS\n",
      "[ 0.00992122  0.99007878] MSI-Low/MSS MSI-High\n",
      "[ 0.01873477  0.98126523] MSI-Low/MSS MSI-High\n",
      "[ 0.16816748  0.83183252] MSI-Low/MSS MSI-Low/MSS\n",
      "[ 0.0815027  0.9184973] MSI-Low/MSS MSI-Low/MSS\n",
      "[ 0.74735248  0.25264752] MSI-High MSI-Low/MSS\n",
      "[ 0.01439302  0.98560698] MSI-Low/MSS MSI-Low/MSS\n",
      "[ 0.00672189  0.99327811] MSI-Low/MSS MSI-Low/MSS\n",
      "[ 0.57689077  0.42310923] MSI-High MSI-High\n",
      "[  6.76570011e-04   9.99323430e-01] MSI-Low/MSS MSI-Low/MSS\n",
      "[  5.88793213e-04   9.99411207e-01] MSI-Low/MSS MSI-Low/MSS\n",
      "[  6.45710842e-04   9.99354289e-01] MSI-Low/MSS MSI-High\n",
      "[  3.18976802e-04   9.99681023e-01] MSI-Low/MSS MSI-Low/MSS\n",
      "[ 0.07215046  0.92784954] MSI-Low/MSS MSI-High\n",
      "[ 0.46174183  0.53825817] MSI-Low/MSS MSI-High\n",
      "[  6.56805751e-04   9.99343194e-01] MSI-Low/MSS MSI-Low/MSS\n",
      "[ 0.00642178  0.99357822] MSI-Low/MSS MSI-Low/MSS\n",
      "[  7.05255698e-04   9.99294744e-01] MSI-Low/MSS MSI-Low/MSS\n",
      "[  4.04489771e-04   9.99595510e-01] MSI-Low/MSS MSI-Low/MSS\n",
      "[ 0.01442407  0.98557593] MSI-Low/MSS MSI-Low/MSS\n",
      "[ 0.00480765  0.99519235] MSI-Low/MSS MSI-Low/MSS\n",
      "[ 0.01242308  0.98757692] MSI-Low/MSS MSI-Low/MSS\n",
      "[  4.84560503e-04   9.99515439e-01] MSI-Low/MSS MSI-Low/MSS\n",
      "[ 0.16683885  0.83316115] MSI-Low/MSS MSI-High\n",
      "[ 0.00482628  0.99517372] MSI-Low/MSS MSI-Low/MSS\n",
      "[  4.97453353e-04   9.99502547e-01] MSI-Low/MSS MSI-Low/MSS\n",
      "[ 0.00273881  0.99726119] MSI-Low/MSS MSI-Low/MSS\n",
      "[ 0.02402323  0.97597677] MSI-Low/MSS MSI-Low/MSS\n",
      "[  3.87294401e-04   9.99612706e-01] MSI-Low/MSS MSI-Low/MSS\n",
      "[  2.55998782e-04   9.99744001e-01] MSI-Low/MSS MSI-Low/MSS\n",
      "[ 0.00428413  0.99571587] MSI-Low/MSS MSI-Low/MSS\n",
      "[  4.87237119e-04   9.99512763e-01] MSI-Low/MSS MSI-Low/MSS\n",
      "[ 0.04667147  0.95332853] MSI-Low/MSS MSI-Low/MSS\n",
      "[ 0.01604097  0.98395903] MSI-Low/MSS MSI-Low/MSS\n",
      "[ 0.00339523  0.99660477] MSI-Low/MSS MSI-Low/MSS\n",
      "[ 0.76713405  0.23286595] MSI-High MSI-High\n",
      "[ 0.06754839  0.93245161] MSI-Low/MSS MSI-High\n",
      "[ 0.01912584  0.98087416] MSI-Low/MSS MSI-Low/MSS\n",
      "[ 0.00103992  0.99896008] MSI-Low/MSS MSI-Low/MSS\n",
      "[  6.16248824e-05   9.99938375e-01] MSI-Low/MSS MSI-Low/MSS\n",
      "[ 0.02737433  0.97262567] MSI-Low/MSS MSI-Low/MSS\n",
      "[ 0.00384149  0.99615851] MSI-Low/MSS MSI-Low/MSS\n",
      "[ 0.00277879  0.99722121] MSI-Low/MSS MSI-Low/MSS\n",
      "[  6.15744702e-04   9.99384255e-01] MSI-Low/MSS MSI-Low/MSS\n",
      "[ 0.00241796  0.99758204] MSI-Low/MSS MSI-Low/MSS\n",
      "[ 0.98336211  0.01663789] MSI-High MSI-High\n"
     ]
    }
   ],
   "source": [
    "final_classify(x, y, test_proteins, test_labels, LogisticRegression(solver='newton-cg', max_iter=1000))"
   ]
  },
  {
   "cell_type": "code",
   "execution_count": 24,
   "metadata": {},
   "outputs": [
    {
     "name": "stdout",
     "output_type": "stream",
     "text": [
      "Gender train accuracy: 1.0\n",
      "Gender test accuracy: 0.571428571429\n",
      "Msi train accuracy: 1.0\n",
      "Msi test accuracy: 0.714285714286\n",
      "Gender test accuracy: 0.525\n",
      "Msi test accuracy: 0.7375\n"
     ]
    }
   ],
   "source": [
    "final_classify(x, y, test_proteins, test_labels, tree.DecisionTreeClassifier(random_state=1))"
   ]
  },
  {
   "cell_type": "code",
   "execution_count": 26,
   "metadata": {},
   "outputs": [
    {
     "name": "stdout",
     "output_type": "stream",
     "text": [
      "Gender train accuracy: 0.957446808511\n",
      "Gender test accuracy: 0.619047619048\n",
      "Msi train accuracy: 0.978723404255\n",
      "Msi test accuracy: 0.904761904762\n",
      "Gender test accuracy: 0.375\n",
      "Msi test accuracy: 0.8375\n"
     ]
    }
   ],
   "source": [
    "final_classify(x, y, test_proteins, test_labels, SGDClassifier(loss='modified_huber', penalty='l1', alpha=0.0001, l1_ratio=0.15, fit_intercept=False, tol=0.001, epsilon=0.1, learning_rate='optimal', eta0=0.0, power_t=0.75, early_stopping=True, validation_fraction=0.1,max_iter=500, class_weight=None, warm_start=True, average=False, n_iter=None, n_iter_no_change=100))\n"
   ]
  },
  {
   "cell_type": "code",
   "execution_count": null,
   "metadata": {
    "collapsed": true
   },
   "outputs": [],
   "source": []
  },
  {
   "cell_type": "code",
   "execution_count": null,
   "metadata": {
    "collapsed": true
   },
   "outputs": [],
   "source": []
  }
 ],
 "metadata": {
  "kernelspec": {
   "display_name": "Python 3",
   "language": "python",
   "name": "python3"
  },
  "language_info": {
   "codemirror_mode": {
    "name": "ipython",
    "version": 3
   },
   "file_extension": ".py",
   "mimetype": "text/x-python",
   "name": "python",
   "nbconvert_exporter": "python",
   "pygments_lexer": "ipython3",
   "version": "3.6.3"
  }
 },
 "nbformat": 4,
 "nbformat_minor": 2
}
